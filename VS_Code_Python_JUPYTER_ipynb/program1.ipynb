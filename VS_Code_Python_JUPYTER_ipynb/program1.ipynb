{
 "cells": [
  {
   "cell_type": "code",
   "execution_count": 3,
   "metadata": {},
   "outputs": [
    {
     "name": "stdout",
     "output_type": "stream",
     "text": [
      "[2, 3, 4, 5, 6]\n",
      "[2, 4]\n"
     ]
    }
   ],
   "source": [
    "\n",
    "a=[1,2,3,4,5]\n",
    "b=list(map(lambda x: x+1,a))\n",
    "c=list(filter(lambda x: x %2 == 0,a))\n",
    "print(b)\n",
    "print(c)"
   ]
  },
  {
   "cell_type": "code",
   "execution_count": 9,
   "id": "883fd3a6",
   "metadata": {},
   "outputs": [
    {
     "name": "stdout",
     "output_type": "stream",
     "text": [
      "(1, 2, 3, 4)\n",
      "{'nm': 'ram', 'age': 20}\n",
      "(1, 2, 3)\n",
      "nm - ram\n",
      "age - 23\n",
      "{'nm': 'ram', 'age': 23}\n"
     ]
    }
   ],
   "source": [
    "# Arbitary Argument\n",
    "\n",
    "def myclass1(*a1):\n",
    "    print (a1)\n",
    "def myclass2(**b1):\n",
    "    print (b1)\n",
    "def myclass3(*b3,**b2):\n",
    "    print (b3)\n",
    "    for key,value in b2.items():\n",
    "        print(f\"{key} - {value}\")\n",
    "    print (b2)\n",
    "myclass1(1,2,3,4)\n",
    "myclass2(nm=\"ram\",age=20)\n",
    "myclass3(1,2,3,nm=\"ram\",age=23)\n"
   ]
  },
  {
   "cell_type": "code",
   "execution_count": null,
   "id": "c1725f40",
   "metadata": {},
   "outputs": [],
   "source": [
    "#-----------Generator -------------\n",
    "from typing import Generator\n",
    "def evn_no(limit:int)->Generator[int, None, None]:\n",
    "    n=0\n",
    "    while n <= limit:\n",
    "        yield n\n",
    "        n +=2\n",
    "\n",
    "l = int(input(\"Enter a number \"))\n",
    "for m in evn_no(l):\n",
    "    print(m)\n",
    "\n",
    "\n"
   ]
  },
  {
   "cell_type": "code",
   "execution_count": 3,
   "id": "9475f766",
   "metadata": {},
   "outputs": [
    {
     "name": "stdout",
     "output_type": "stream",
     "text": [
      "[1, 2, 3, 4, 5]\n"
     ]
    }
   ],
   "source": [
    "\n",
    "a =[x+1 for x in range(5)]\n",
    "print(a)"
   ]
  }
 ],
 "metadata": {
  "kernelspec": {
   "display_name": "Python 3",
   "language": "python",
   "name": "python3"
  },
  "language_info": {
   "codemirror_mode": {
    "name": "ipython",
    "version": 3
   },
   "file_extension": ".py",
   "mimetype": "text/x-python",
   "name": "python",
   "nbconvert_exporter": "python",
   "pygments_lexer": "ipython3",
   "version": "3.11.1"
  }
 },
 "nbformat": 4,
 "nbformat_minor": 5
}
